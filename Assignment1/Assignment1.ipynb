{
 "cells": [
  {
   "cell_type": "markdown",
   "metadata": {
    "id": "GWCPCDvGW_cm"
   },
   "source": [
    "# Assignment 1\n",
    "\n",
    "\n",
    "You must submit your notebook by running `python3 -m autograder.cli.submission.submit Assignment1.ipynb` from your local repository.\n",
    "\n",
    "To write legible answers you will need to be familiar with both [Markdown](https://github.com/adam-p/markdown-here/wiki/Markdown-Cheatsheet) and [Latex](https://www.latex-tutorial.com/tutorials/amsmath/)\n",
    "\n",
    "Before you turn this problem in, make sure everything runs as expected. To do so, restart the kernel and run all cells (in the menubar, select Runtime→→Restart and run all).\n",
    "\n",
    "#### Show your work!\n",
    "Whenever you are asked to find the solution to a problem, be sure to also **show how you arrived** at your answer.\n",
    "\n",
    "Make sure you fill in any place that says \"YOUR CODE HERE\" or \"YOUR ANSWERS HERE\", as well as your name below:\n"
   ]
  },
  {
   "cell_type": "markdown",
   "metadata": {
    "id": "Hc-OUgRxWIPM"
   },
   "source": [
    "## Q1\n",
    "\n",
    "![figure](https://docs.google.com/drawings/d/e/2PACX-1vR3cNeZWfHNbPXRGyZrKazhI2WNM9wroJoAsshbD7LzwEBd4k0W_zu-T30_O_4iHC2qpKRxCRBA1IjV/pub?w=480&h=320)\n",
    "\n",
    "Which solution would the following search algorithms find to move from node *Start* to node *Goal* if run the algorithm on the search graph above? Break any ties alphabetically. Please give each answer in a form similar to this example: `[start, 'a', 'd', goal]`\n",
    "\n",
    "a. Breadth-First Search\n",
    "\n",
    "b. Depth-First Search\n",
    "\n",
    "c. Uniform Cost Search\n",
    "\n",
    "Explain by drawing an equivalent search tree for each of them. Draw the search trees graphically. A good way to do this is through [Google Drawings](https://docs.google.com/drawings)\n",
    "\n"
   ]
  },
  {
   "cell_type": "markdown",
   "metadata": {},
   "source": [
    "Dishita Jhawar: search Tree drawings: https://drive.google.com/file/d/1ofL3Tc_0OGG5-As2Usnw70wupjP99eE5/view?usp=sharing"
   ]
  },
  {
   "cell_type": "code",
   "execution_count": 23,
   "metadata": {},
   "outputs": [],
   "source": [
    "# YOUR ANSWERS HERE\n",
    "def question1():\n",
    "    \"\"\"\n",
    "    Description:\n",
    "    [Enter a description of your reasoning for each of a through c here.]\n",
    "    \"\"\"\n",
    "    start = 'Start'\n",
    "    goal = 'Goal'\n",
    "    \n",
    "    a = [start, 'd', goal]\n",
    "    b = [start, 'a', 'b', 'c', goal]\n",
    "    c = [start, 'a', 'b', goal]\n",
    "    \n",
    "    return a, b, c"
   ]
  },
  {
   "cell_type": "markdown",
   "metadata": {
    "id": "2cCZFudXW_cp"
   },
   "source": [
    "## Q2\n",
    "Answer the following questions about the search problem shown in the figure below. Break any ties alphabetically. For the questions that ask for a path, please give your answers in a form similar to this example: `[start, 'a', 'd', goal]`. For questions `e` and `f`, please return either `True` or `False`.\n",
    "\n",
    "Start − a − d − Goal\n",
    "\n",
    "![figure](https://docs.google.com/drawings/d/e/2PACX-1vS4nUoOVGzXNZTHZLsY6wZ6VyjtPlA4mhcvWs-6mgwaeDwoMftqbYyytgBVmgOnqLoUGZbRt8cuQNfA/pub?w=640&h=480)\n",
    "\n",
    "What path would be returned for this search problem using each of the following graph search algorithms?\n",
    "\n",
    "a. Breadth-First Search\n",
    "\n",
    "b. Uniform Cost Search\n",
    "\n",
    "c. Depth-First Search\n",
    "\n",
    "d. A* Search (using an appropriate heuristic function). Explain what heuristc function you used.\n",
    "\n",
    "\n",
    "\n",
    "Consider the heuristics for this problem shown in the table below.\n",
    "\n",
    "|     State     |     h1     |     h2        |\n",
    "|---------------|------------|---------------|\n",
    "|     start     |     5      |     4         |\n",
    "|     a         |     3      |     2         |\n",
    "|     b         |     6      |     6         |\n",
    "|     c         |     2      |     1         |\n",
    "|     d         |     3      |     3         |\n",
    "|     goal      |     0      |     0         |\n",
    "\n",
    "\n",
    "e. Is h1 consistent?\n",
    "\n",
    "f. Is h2 consistent?"
   ]
  },
  {
   "cell_type": "markdown",
   "metadata": {},
   "source": [
    "Dishita Jhawar: Explanation of answers: https://drive.google.com/file/d/1afnDsiShMV-f8iMJPMCzjkjPpcVjkAT3/view?usp=sharing"
   ]
  },
  {
   "cell_type": "code",
   "execution_count": 24,
   "metadata": {},
   "outputs": [],
   "source": [
    "# YOUR ANSWERS HERE\n",
    "def question2():\n",
    "    \"\"\"\n",
    "    Description:\n",
    "    [Enter a description of your reasoning for each of a through f here.]\n",
    "    \"\"\"\n",
    "    start = 'Start'\n",
    "    goal = 'Goal'\n",
    "       \n",
    "    a = [start, goal] \n",
    "    b = [start, 'a', 'c', goal]\n",
    "    c = [start, 'a', 'b', 'd', goal]\n",
    "    d = [start, 'a', 'c', goal]\n",
    "    e = False\n",
    "    f = False\n",
    "    \n",
    "    return a, b, c, d, e, f"
   ]
  },
  {
   "cell_type": "markdown",
   "metadata": {
    "id": "_uecj_VM0l1a"
   },
   "source": [
    "## Chess \n",
    "The remaining questions in this assignment, as well as all the questions in the following assignment, will make use of Python's chess module.\n",
    "\n",
    "If you're not familiar with this, it would probably be beneficial to spend some time going over it before getting started with the rest of the assignment. The official documentation is one place to get started: `https://python-chess.readthedocs.io/en/latest/`\n"
   ]
  },
  {
   "cell_type": "markdown",
   "metadata": {},
   "source": [
    "## The Knight Errant Problem\n",
    "The knight begins their quest in the bottom left-hand corner of the board, the tile 'A1'. Their quest will end when they reach the upper right-hand corner of the board, the tile 'H8'. Along the way, the knight will pass through many other tiles on the board. \n",
    "\n",
    "For each of the following questions, implement the corresponding search algorithm and return the list of tiles visited, in order. In Python's chess module, each tile has an integer id corresponding to it, where `'A1' = 0`, `'A2' = 1`, etc, and you should please manipulate them as integers.\n",
    "\n",
    "For example, the knight starting on tile `'A1' = 1` and moving through tiles `'A1' = 0`, `'A2' = 1`, and `'A3' = 2`, in that order, before finally reaching the destination `'A4' = 3` would be represented by the list `[0, 1, 2, 3]`.\n",
    "\n",
    "As one final piece of advice, it is not necessary to invent any grand new functions here to help you interface with the chess board. If you have an idea for something and it seems like too much, there may very well be a built-in chess module function that can do it for you. Please have a look before diving in head-first.\n",
    "\n",
    "A function to check whether a given board meets the goal condition is provided here for you below:"
   ]
  },
  {
   "cell_type": "code",
   "execution_count": 25,
   "metadata": {},
   "outputs": [],
   "source": [
    "import chess\n",
    "\n",
    "def goal_reached(board: chess.Board, goal_position: chess.Square):\n",
    "    \"\"\"\n",
    "    This function informs us as to whether the goal condition has been met during our search\n",
    "\n",
    "    Parameters:\n",
    "    - board: the chess board that the knight is moving upon\n",
    "\n",
    "    Returns:\n",
    "    - True: if the knight is on the destination tile 'H8'\n",
    "    - False: otherwise\n",
    "    \"\"\"\n",
    "    p = board.piece_at(goal_position)\n",
    "    return p and p.piece_type == chess.KNIGHT and p.color == chess.WHITE"
   ]
  },
  {
   "cell_type": "markdown",
   "metadata": {},
   "source": [
    "## Q3\n",
    "Implement the **Breadth-First Search** (BFS) algorithm to find the order of visited tiles for the the Knight Errant Problem.\n",
    "\n",
    "Break ties in the order given by `board.legal_moves`. Please give your answer in a form similar to this example: `[0, 31, 15, ..., 63]`"
   ]
  },
  {
   "cell_type": "code",
   "execution_count": 26,
   "metadata": {},
   "outputs": [],
   "source": [
    "from collections import deque\n",
    "def BFS(board: chess.Board, goal_position: chess.Square):\n",
    "    \"\"\"\n",
    "    This function implements the breath first search algorithm\n",
    "    \n",
    "    Parameters:\n",
    "    - board: the chess board that the knight is moving upon\n",
    "    \n",
    "    Returns:\n",
    "    A list containing the visited tile values in the order they were visited with starting tile\n",
    "    always being the first tile and the goal tile always being the last tile\n",
    "    \"\"\"\n",
    "    visited_nodes_in_order = []\n",
    "    visited= set() #visited squares\n",
    "    queue = deque()\n",
    "\n",
    "    start = list(board.pieces(chess.KNIGHT, chess.WHITE))[0]\n",
    "\n",
    "    visited.add(start)\n",
    "    visited_nodes_in_order.append(start)\n",
    "    queue.append((board.copy(), start))\n",
    "\n",
    "    while queue:\n",
    "        curr_board, curr_square = queue.popleft() #dequeue node\n",
    "\n",
    "        if curr_square not in visited_nodes_in_order: # add to visited as soon as u visit it (this is not the solution path)\n",
    "            visited_nodes_in_order.append(curr_square) \n",
    "\n",
    "        #find all legal moves FROM the current square (.from_square)\n",
    "        moves = []\n",
    "        for i in curr_board.legal_moves:\n",
    "            moves.append(i)\n",
    "                \n",
    "        for i in moves:\n",
    "            next_square = i.to_square\n",
    "            if next_square not in visited:\n",
    "                visited.add(next_square)\n",
    "\n",
    "                new_board = curr_board.copy()\n",
    "                new_board.push(i)\n",
    "                new_board.turn = chess.WHITE #always reset to white turn \n",
    "\n",
    "                queue.append((new_board, next_square)) \n",
    "                visited_nodes_in_order.append(next_square)\n",
    "\n",
    "                if next_square == goal_position:\n",
    "                    return visited_nodes_in_order\n",
    "                   \n",
    "    return visited_nodes_in_order\n"
   ]
  },
  {
   "cell_type": "code",
   "execution_count": 27,
   "metadata": {},
   "outputs": [
    {
     "name": "stdout",
     "output_type": "stream",
     "text": [
      ". . . . . . . .\n",
      ". . . . . . . .\n",
      ". . . . . . . .\n",
      ". . . . . . . .\n",
      ". . . . . . . .\n",
      ". . . . . . . .\n",
      ". . . . . . . .\n",
      "N . . . . . . .\n",
      "[0, 17, 10, 34, 32, 27, 11, 2, 25, 20, 16, 4, 51, 49, 44, 40, 28, 24, 19, 42, 26, 37, 33, 21, 12, 5, 1, 8, 35, 30, 14, 3, 61, 57, 45, 41, 36, 59, 43, 54, 50, 38, 29, 22, 18, 13, 9, 52, 48, 47, 31, 15, 6, 55, 46, 62, 60, 39, 58, 56, 53, 23, 7, 63]\n"
     ]
    }
   ],
   "source": [
    "test_board = chess.Board(\"8/8/8/8/8/8/8/N7\")\n",
    "test_goal = 63\n",
    "print(test_board)\n",
    "\n",
    "q3 = BFS(test_board, test_goal)\n",
    "print(q3)"
   ]
  },
  {
   "cell_type": "markdown",
   "metadata": {},
   "source": [
    "## Q4\n",
    "Implement the **Depth-First Search** (DFS) algorithm to find the order of visited tiles for the the Knight Errant Problem.\n",
    "\n",
    "Break ties in the order given by `board.legal_moves`. Please give your answer in a form similar to this example: `[0, 31, 15, ..., 63]`"
   ]
  },
  {
   "cell_type": "code",
   "execution_count": 28,
   "metadata": {},
   "outputs": [],
   "source": [
    "def DFS(board: chess.Board, goal_position: chess.Square):\n",
    "    \"\"\"\n",
    "    This function implements the depth first search algorithm\n",
    "    \n",
    "    Parameters:\n",
    "    - board: the chess board that the knight is moving upon\n",
    "    \n",
    "    Returns:\n",
    "    A list containing the visited tile values in the order they were visited with starting tile\n",
    "    always being the first tile and the goal tile always being the last tile\n",
    "    \"\"\"\n",
    "    visited_nodes_in_order = []\n",
    "    visited = set()\n",
    "    stack = []\n",
    "\n",
    "    knight_start = list(board.pieces(chess.KNIGHT, chess.WHITE))[0]\n",
    "\n",
    "    visited.add(knight_start)\n",
    "    stack.append((board.copy(), knight_start))\n",
    "\n",
    "    while stack:\n",
    "        curr_board, curr_square = stack.pop()  \n",
    "\n",
    "        if curr_square not in visited_nodes_in_order:\n",
    "            visited_nodes_in_order.append(curr_square)\n",
    "        else:\n",
    "            continue\n",
    "\n",
    "        if curr_square == goal_position:\n",
    "            return visited_nodes_in_order\n",
    "\n",
    "        curr_board.turn = chess.WHITE \n",
    "\n",
    "        moves = []\n",
    "        for i in curr_board.legal_moves:\n",
    "            moves.append(i)\n",
    "\n",
    "        for move in reversed(moves):\n",
    "            next_square = move.to_square\n",
    "            # if next_square not in visited:\n",
    "\n",
    "            visited.add(next_square)\n",
    "            #make a copy of the board bc u cant modify\n",
    "            new_board = curr_board.copy()\n",
    "            new_board.push(move)\n",
    "            new_board.turn = chess.WHITE  \n",
    "\n",
    "            stack.append((new_board, next_square))\n",
    "\n",
    "\n",
    "    return visited_nodes_in_order\n"
   ]
  },
  {
   "cell_type": "code",
   "execution_count": 29,
   "metadata": {},
   "outputs": [
    {
     "name": "stdout",
     "output_type": "stream",
     "text": [
      ". . . . . . . .\n",
      ". . . . . . . .\n",
      ". . . . . . . .\n",
      ". . . . . . . .\n",
      ". . . . . . . .\n",
      ". . . . . . . .\n",
      ". . . . . . . .\n",
      "N . . . . . . .\n",
      "[0, 17, 34, 51, 61, 55, 45, 62, 52, 58, 48, 42, 59, 53, 63, 46, 36, 30, 47, 37, 54, 60, 50, 56, 41, 35, 29, 44, 38, 28, 43, 49, 32]\n"
     ]
    }
   ],
   "source": [
    "test_board = chess.Board(\"8/8/8/8/8/8/8/N7\")\n",
    "test_goal = 32\n",
    "print(test_board)\n",
    "\n",
    "q4 = DFS(test_board, test_goal)\n",
    "print(q4)"
   ]
  },
  {
   "cell_type": "markdown",
   "metadata": {
    "id": "LM0yg5nnW_cx"
   },
   "source": [
    "## Q5\n",
    "Implement the **A* Search** (Textbook Section 3.5.2) algorithm to find the **final path found** for the Knight Errant Problem.\n",
    "\n",
    "#### A* Search\n",
    "---\n",
    "The most widely known form of best-first search is called **A∗ search** (pronounced \"A-star search\"). It evaluates nodes by combining $g(n)$, the cost to reach the node, and $h(n)$, the cost to get from the node to the goal:\n",
    "\n",
    "\\begin{equation*}\n",
    "f(n) = g(n) + h(n) .\n",
    "\\end{equation*}\n",
    "\n",
    "Since $g(n)$ gives the path cost from the start node to node $n$, and $h(n)$ is the estimated cost of the cheapest path from n to the goal, we have\n",
    "\n",
    "\n",
    "$f(n)$= estimated cost of the cheapest solution through $n$ .\n",
    "\n",
    "**NOTE:**\n",
    "- If two positions are considered equally good choices, take the node that appears first in board.legal_moves\n",
    "- You may also find the built-in function `chess.square_knight_distance(a, b)` useful here\n"
   ]
  },
  {
   "cell_type": "code",
   "execution_count": 30,
   "metadata": {},
   "outputs": [],
   "source": [
    "import chess\n",
    "import heapq\n",
    "def a_star_search(board: chess.Board, goal_position: chess.Square):\n",
    "    \"\"\"\n",
    "    This function implements the A* search algorithm\n",
    "\n",
    "    Parameters:\n",
    "    - board: the chess board that the knight is moving upon\n",
    "\n",
    "    Returns:\n",
    "    A list containing the final path returned by A*, starting with the start tile's ID and ending with the goal tile's ID.\n",
    "    \"\"\"\n",
    "    # YOUR CODE HERE\n",
    "    optimal_path = []\n",
    "    open = []\n",
    "    closed = set()\n",
    "    came_from = {} #store the parents of the node \n",
    "\n",
    "    board.turn = chess.WHITE\n",
    "\n",
    "    start = list(board.pieces(chess.KNIGHT, chess.WHITE))[0]\n",
    "    #h(n) = chess.square_knight_distance(a,b)\n",
    "    #g(n) = cumulative cost so far \n",
    "    #f(n) = g(n) + h(n)\n",
    "    g = {start: 0} #dictionary storing the scores for each node\n",
    "    h = chess.square_knight_distance(start, goal_position) #calculate the heuristic\n",
    "    f = g[start] + h\n",
    "    count = 0\n",
    "    #priority queue\n",
    "    heapq.heappush(open, (f, count, start))\n",
    "    while open:\n",
    "        #choose the lowest f value which is at the top of the priority queue\n",
    "        curr_square = heapq.heappop(open)[2]\n",
    "\n",
    "        if curr_square == goal_position:\n",
    "            total_path = [curr_square]\n",
    "            while curr_square in came_from:\n",
    "                curr_square = came_from[curr_square]\n",
    "                total_path.append(curr_square)\n",
    "            return total_path[::-1]\n",
    "        \n",
    "        closed.add(curr_square)\n",
    "        #all legal moves from curr quare\n",
    "        board.turn = chess.WHITE\n",
    "        board.set_piece_at(curr_square, chess.Piece(chess.KNIGHT, chess.WHITE))\n",
    "        \n",
    "        moves = []\n",
    "        for i in board.legal_moves:\n",
    "                moves.append(i)\n",
    "        for i in moves:\n",
    "            neighbor = i.to_square\n",
    "            if neighbor in closed:\n",
    "                continue\n",
    "            \n",
    "            temp_g = g[curr_square] + 1 \n",
    "\n",
    "            if neighbor not in g or temp_g < g[neighbor]: \n",
    "                    came_from[neighbor] = curr_square\n",
    "\n",
    "                    g[neighbor] = temp_g\n",
    "\n",
    "\n",
    "                    h = chess.square_knight_distance(neighbor, goal_position)\n",
    "                    f = temp_g + h #f(n) = g(n) + h(n)\n",
    "                    count += 1 \n",
    "\n",
    "                    heapq.heappush(open, (f, count, neighbor))\n",
    "    return []"
   ]
  },
  {
   "cell_type": "code",
   "execution_count": 31,
   "metadata": {},
   "outputs": [
    {
     "name": "stdout",
     "output_type": "stream",
     "text": [
      ". . . . . . . .\n",
      ". . . . . . . .\n",
      ". . . . . . . .\n",
      ". . . . . . . .\n",
      ". . . . . . . .\n",
      ". . . . . . . .\n",
      ". . . . . . . .\n",
      "N . . . . . . .\n",
      "[0, 17, 34, 51, 61, 46, 63]\n"
     ]
    }
   ],
   "source": [
    "test_board = chess.Board(\"8/8/8/8/8/8/8/N7\")\n",
    "test_goal = chess.H8\n",
    "print(test_board)\n",
    "\n",
    "q5 = a_star_search(test_board, test_goal)\n",
    "print(q5)\n"
   ]
  }
 ],
 "metadata": {
  "colab": {
   "collapsed_sections": [
    "Hc-OUgRxWIPM"
   ],
   "provenance": []
  },
  "kernelspec": {
   "display_name": "Python 3",
   "language": "python",
   "name": "python3"
  },
  "language_info": {
   "codemirror_mode": {
    "name": "ipython",
    "version": 3
   },
   "file_extension": ".py",
   "mimetype": "text/x-python",
   "name": "python",
   "nbconvert_exporter": "python",
   "pygments_lexer": "ipython3",
   "version": "3.11.0"
  }
 },
 "nbformat": 4,
 "nbformat_minor": 1
}
